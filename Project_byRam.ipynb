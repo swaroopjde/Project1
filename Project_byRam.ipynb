{
 "cells": [
  {
   "cell_type": "markdown",
   "metadata": {},
   "source": [
    "### Project - MovieLens Data Analysis\n",
    "\n",
    "The GroupLens Research Project is a research group in the Department of Computer Science and Engineering at the University of Minnesota. The data is widely used for collaborative filtering and other filtering solutions. However, we will be using this data to act as a means to demonstrate our skill in using Python to “play” with data.\n",
    "\n",
    "### Datasets Information:\n",
    "\n",
    "- Data.csv: It contains information of ratings given by the users to a particular movie. Columns: user id, movie id, rating, timestamp\n",
    "\n",
    "- item.csv: File contains information related to the movies and its genre.\n",
    "\n",
    "- Columns: movie id, movie title, release date, unknown, Action, Adventure, Animation, Children’s, Comedy, Crime, Documentary, Drama, Fantasy, Film-Noir, Horror, Musical, Mystery, Romance, Sci-Fi, Thriller, War, Western\n",
    "\n",
    "- user.csv: It contains information of the users who have rated the movies. Columns: user id, age, gender, occupation, zip code\n",
    "\n",
    "### Objective:\n",
    "\n",
    "`To implement the techniques learnt as a part of the course.`\n",
    "\n",
    "### Learning Outcomes:\n",
    "- Exploratory Data Analysis\n",
    "\n",
    "- Visualization using Python\n",
    "\n",
    "- Pandas – groupby, merging \n",
    "\n",
    "\n",
    "#### Domain \n",
    "`Internet and Entertainment`\n",
    "\n",
    "**Note that the project will need you to apply the concepts of groupby and merging extensively.**"
   ]
  },
  {
   "cell_type": "code",
   "execution_count": 4,
   "metadata": {},
   "outputs": [],
   "source": [
    "import pandas as pd\n",
    "import numpy as np\n",
    "import matplotlib as mp\n",
    "import seaborn as sns"
   ]
  },
  {
   "cell_type": "markdown",
   "metadata": {},
   "source": [
    "#### 1. Import the necessary packages - 2.5 marks"
   ]
  },
  {
   "cell_type": "code",
   "execution_count": 5,
   "metadata": {},
   "outputs": [
    {
     "name": "stdout",
     "output_type": "stream",
     "text": [
      "     user id  age gender     occupation zip code\n",
      "0          1   24      M     technician    85711\n",
      "1          2   53      F          other    94043\n",
      "2          3   23      M         writer    32067\n",
      "3          4   24      M     technician    43537\n",
      "4          5   33      F          other    15213\n",
      "..       ...  ...    ...            ...      ...\n",
      "938      939   26      F        student    33319\n",
      "939      940   32      M  administrator    02215\n",
      "940      941   20      M        student    97229\n",
      "941      942   48      F      librarian    78209\n",
      "942      943   22      M        student    77841\n",
      "\n",
      "[943 rows x 5 columns]\n"
     ]
    }
   ],
   "source": [
    "#Read user file\n",
    "user1=pd.read_csv(r'c:\\user.csv')\n",
    "#with columns\n",
    "dfu= pd.DataFrame(user1, columns=['user id', 'age','gender','occupation','zip code'])\n",
    "print(dfu)\n",
    "\n",
    "\n",
    "\n"
   ]
  },
  {
   "cell_type": "code",
   "execution_count": 109,
   "metadata": {},
   "outputs": [
    {
     "name": "stdout",
     "output_type": "stream",
     "text": [
      "       user id  movie id  rating  timestamp\n",
      "0          196       242       3  881250949\n",
      "1          186       302       3  891717742\n",
      "2           22       377       1  878887116\n",
      "3          244        51       2  880606923\n",
      "4          166       346       1  886397596\n",
      "...        ...       ...     ...        ...\n",
      "99995      880       476       3  880175444\n",
      "99996      716       204       5  879795543\n",
      "99997      276      1090       1  874795795\n",
      "99998       13       225       2  882399156\n",
      "99999       12       203       3  879959583\n",
      "\n",
      "[100000 rows x 4 columns]\n"
     ]
    }
   ],
   "source": [
    "#read data file\n",
    "data1=pd.read_csv(r'c:\\Data.csv')\n",
    "\n",
    "dfd=pd.DataFrame(data1)\n",
    "print(dfd)"
   ]
  },
  {
   "cell_type": "code",
   "execution_count": 110,
   "metadata": {},
   "outputs": [
    {
     "name": "stdout",
     "output_type": "stream",
     "text": [
      "      movie id                          movie title release date  unknown  \\\n",
      "0            1                           Toy Story   01-Jan-1995        0   \n",
      "1            2                           GoldenEye   01-Jan-1995        0   \n",
      "2            3                          Four Rooms   01-Jan-1995        0   \n",
      "3            4                          Get Shorty   01-Jan-1995        0   \n",
      "4            5                             Copycat   01-Jan-1995        0   \n",
      "...        ...                                  ...          ...      ...   \n",
      "1676      1678                          Mat' i syn   06-Feb-1998        0   \n",
      "1677      1679                           B. Monkey   06-Feb-1998        0   \n",
      "1678      1680                       Sliding Doors   01-Jan-1998        0   \n",
      "1679      1681                        You So Crazy   01-Jan-1994        0   \n",
      "1680      1682  Scream of Stone (Schrei aus Stein)   08-Mar-1996        0   \n",
      "\n",
      "      Action  Adventure  Animation  Childrens  Comedy  Crime  ...  Fantasy  \\\n",
      "0          0          0          1          1       1      0  ...        0   \n",
      "1          1          1          0          0       0      0  ...        0   \n",
      "2          0          0          0          0       0      0  ...        0   \n",
      "3          1          0          0          0       1      0  ...        0   \n",
      "4          0          0          0          0       0      1  ...        0   \n",
      "...      ...        ...        ...        ...     ...    ...  ...      ...   \n",
      "1676       0          0          0          0       0      0  ...        0   \n",
      "1677       0          0          0          0       0      0  ...        0   \n",
      "1678       0          0          0          0       0      0  ...        0   \n",
      "1679       0          0          0          0       1      0  ...        0   \n",
      "1680       0          0          0          0       0      0  ...        0   \n",
      "\n",
      "      Film-Noir  Horror  Musical  Mystery  Romance  Sci-Fi  Thriller  War  \\\n",
      "0             0       0        0        0        0       0         0    0   \n",
      "1             0       0        0        0        0       0         1    0   \n",
      "2             0       0        0        0        0       0         1    0   \n",
      "3             0       0        0        0        0       0         0    0   \n",
      "4             0       0        0        0        0       0         1    0   \n",
      "...         ...     ...      ...      ...      ...     ...       ...  ...   \n",
      "1676          0       0        0        0        0       0         0    0   \n",
      "1677          0       0        0        0        1       0         1    0   \n",
      "1678          0       0        0        0        1       0         0    0   \n",
      "1679          0       0        0        0        0       0         0    0   \n",
      "1680          0       0        0        0        0       0         0    0   \n",
      "\n",
      "      Western  \n",
      "0           0  \n",
      "1           0  \n",
      "2           0  \n",
      "3           0  \n",
      "4           0  \n",
      "...       ...  \n",
      "1676        0  \n",
      "1677        0  \n",
      "1678        0  \n",
      "1679        0  \n",
      "1680        0  \n",
      "\n",
      "[1681 rows x 22 columns]\n"
     ]
    }
   ],
   "source": [
    "#read item file\n",
    "item1=pd.read_csv(r'c:\\item.csv')\n",
    "\n",
    "dfi=pd.DataFrame(item1)\n",
    "print(dfi)"
   ]
  },
  {
   "cell_type": "markdown",
   "metadata": {},
   "source": [
    "#### 2. Read the 3 datasets into dataframes - 2.5 marks"
   ]
  },
  {
   "cell_type": "code",
   "execution_count": 111,
   "metadata": {
    "scrolled": true
   },
   "outputs": [
    {
     "name": "stdout",
     "output_type": "stream",
     "text": [
      "<class 'pandas.core.frame.DataFrame'>\n",
      "RangeIndex: 943 entries, 0 to 942\n",
      "Data columns (total 5 columns):\n",
      " #   Column      Non-Null Count  Dtype \n",
      "---  ------      --------------  ----- \n",
      " 0   user id     943 non-null    int64 \n",
      " 1   age         943 non-null    int64 \n",
      " 2   gender      943 non-null    object\n",
      " 3   occupation  943 non-null    object\n",
      " 4   zip code    943 non-null    object\n",
      "dtypes: int64(2), object(3)\n",
      "memory usage: 37.0+ KB\n"
     ]
    },
    {
     "data": {
      "text/html": [
       "<div>\n",
       "<style scoped>\n",
       "    .dataframe tbody tr th:only-of-type {\n",
       "        vertical-align: middle;\n",
       "    }\n",
       "\n",
       "    .dataframe tbody tr th {\n",
       "        vertical-align: top;\n",
       "    }\n",
       "\n",
       "    .dataframe thead th {\n",
       "        text-align: right;\n",
       "    }\n",
       "</style>\n",
       "<table border=\"1\" class=\"dataframe\">\n",
       "  <thead>\n",
       "    <tr style=\"text-align: right;\">\n",
       "      <th></th>\n",
       "      <th>user id</th>\n",
       "      <th>age</th>\n",
       "      <th>gender</th>\n",
       "      <th>occupation</th>\n",
       "      <th>zip code</th>\n",
       "    </tr>\n",
       "  </thead>\n",
       "  <tbody>\n",
       "    <tr>\n",
       "      <th>0</th>\n",
       "      <td>False</td>\n",
       "      <td>False</td>\n",
       "      <td>False</td>\n",
       "      <td>False</td>\n",
       "      <td>False</td>\n",
       "    </tr>\n",
       "    <tr>\n",
       "      <th>1</th>\n",
       "      <td>False</td>\n",
       "      <td>False</td>\n",
       "      <td>False</td>\n",
       "      <td>False</td>\n",
       "      <td>False</td>\n",
       "    </tr>\n",
       "    <tr>\n",
       "      <th>2</th>\n",
       "      <td>False</td>\n",
       "      <td>False</td>\n",
       "      <td>False</td>\n",
       "      <td>False</td>\n",
       "      <td>False</td>\n",
       "    </tr>\n",
       "    <tr>\n",
       "      <th>3</th>\n",
       "      <td>False</td>\n",
       "      <td>False</td>\n",
       "      <td>False</td>\n",
       "      <td>False</td>\n",
       "      <td>False</td>\n",
       "    </tr>\n",
       "    <tr>\n",
       "      <th>4</th>\n",
       "      <td>False</td>\n",
       "      <td>False</td>\n",
       "      <td>False</td>\n",
       "      <td>False</td>\n",
       "      <td>False</td>\n",
       "    </tr>\n",
       "    <tr>\n",
       "      <th>...</th>\n",
       "      <td>...</td>\n",
       "      <td>...</td>\n",
       "      <td>...</td>\n",
       "      <td>...</td>\n",
       "      <td>...</td>\n",
       "    </tr>\n",
       "    <tr>\n",
       "      <th>938</th>\n",
       "      <td>False</td>\n",
       "      <td>False</td>\n",
       "      <td>False</td>\n",
       "      <td>False</td>\n",
       "      <td>False</td>\n",
       "    </tr>\n",
       "    <tr>\n",
       "      <th>939</th>\n",
       "      <td>False</td>\n",
       "      <td>False</td>\n",
       "      <td>False</td>\n",
       "      <td>False</td>\n",
       "      <td>False</td>\n",
       "    </tr>\n",
       "    <tr>\n",
       "      <th>940</th>\n",
       "      <td>False</td>\n",
       "      <td>False</td>\n",
       "      <td>False</td>\n",
       "      <td>False</td>\n",
       "      <td>False</td>\n",
       "    </tr>\n",
       "    <tr>\n",
       "      <th>941</th>\n",
       "      <td>False</td>\n",
       "      <td>False</td>\n",
       "      <td>False</td>\n",
       "      <td>False</td>\n",
       "      <td>False</td>\n",
       "    </tr>\n",
       "    <tr>\n",
       "      <th>942</th>\n",
       "      <td>False</td>\n",
       "      <td>False</td>\n",
       "      <td>False</td>\n",
       "      <td>False</td>\n",
       "      <td>False</td>\n",
       "    </tr>\n",
       "  </tbody>\n",
       "</table>\n",
       "<p>943 rows × 5 columns</p>\n",
       "</div>"
      ],
      "text/plain": [
       "     user id    age  gender  occupation  zip code\n",
       "0      False  False   False       False     False\n",
       "1      False  False   False       False     False\n",
       "2      False  False   False       False     False\n",
       "3      False  False   False       False     False\n",
       "4      False  False   False       False     False\n",
       "..       ...    ...     ...         ...       ...\n",
       "938    False  False   False       False     False\n",
       "939    False  False   False       False     False\n",
       "940    False  False   False       False     False\n",
       "941    False  False   False       False     False\n",
       "942    False  False   False       False     False\n",
       "\n",
       "[943 rows x 5 columns]"
      ]
     },
     "execution_count": 111,
     "metadata": {},
     "output_type": "execute_result"
    }
   ],
   "source": [
    "#describe and info, shape is not null for user dataframe\n",
    "dfu.info()\n",
    "dfu.describe()\n",
    "dfu.shape\n",
    "dfu.isna()\n"
   ]
  },
  {
   "cell_type": "code",
   "execution_count": 112,
   "metadata": {},
   "outputs": [
    {
     "name": "stdout",
     "output_type": "stream",
     "text": [
      "<class 'pandas.core.frame.DataFrame'>\n",
      "RangeIndex: 100000 entries, 0 to 99999\n",
      "Data columns (total 4 columns):\n",
      " #   Column     Non-Null Count   Dtype\n",
      "---  ------     --------------   -----\n",
      " 0   user id    100000 non-null  int64\n",
      " 1   movie id   100000 non-null  int64\n",
      " 2   rating     100000 non-null  int64\n",
      " 3   timestamp  100000 non-null  int64\n",
      "dtypes: int64(4)\n",
      "memory usage: 3.1 MB\n"
     ]
    },
    {
     "data": {
      "text/html": [
       "<div>\n",
       "<style scoped>\n",
       "    .dataframe tbody tr th:only-of-type {\n",
       "        vertical-align: middle;\n",
       "    }\n",
       "\n",
       "    .dataframe tbody tr th {\n",
       "        vertical-align: top;\n",
       "    }\n",
       "\n",
       "    .dataframe thead th {\n",
       "        text-align: right;\n",
       "    }\n",
       "</style>\n",
       "<table border=\"1\" class=\"dataframe\">\n",
       "  <thead>\n",
       "    <tr style=\"text-align: right;\">\n",
       "      <th></th>\n",
       "      <th>user id</th>\n",
       "      <th>movie id</th>\n",
       "      <th>rating</th>\n",
       "      <th>timestamp</th>\n",
       "    </tr>\n",
       "  </thead>\n",
       "  <tbody>\n",
       "    <tr>\n",
       "      <th>0</th>\n",
       "      <td>False</td>\n",
       "      <td>False</td>\n",
       "      <td>False</td>\n",
       "      <td>False</td>\n",
       "    </tr>\n",
       "    <tr>\n",
       "      <th>1</th>\n",
       "      <td>False</td>\n",
       "      <td>False</td>\n",
       "      <td>False</td>\n",
       "      <td>False</td>\n",
       "    </tr>\n",
       "    <tr>\n",
       "      <th>2</th>\n",
       "      <td>False</td>\n",
       "      <td>False</td>\n",
       "      <td>False</td>\n",
       "      <td>False</td>\n",
       "    </tr>\n",
       "    <tr>\n",
       "      <th>3</th>\n",
       "      <td>False</td>\n",
       "      <td>False</td>\n",
       "      <td>False</td>\n",
       "      <td>False</td>\n",
       "    </tr>\n",
       "    <tr>\n",
       "      <th>4</th>\n",
       "      <td>False</td>\n",
       "      <td>False</td>\n",
       "      <td>False</td>\n",
       "      <td>False</td>\n",
       "    </tr>\n",
       "    <tr>\n",
       "      <th>...</th>\n",
       "      <td>...</td>\n",
       "      <td>...</td>\n",
       "      <td>...</td>\n",
       "      <td>...</td>\n",
       "    </tr>\n",
       "    <tr>\n",
       "      <th>99995</th>\n",
       "      <td>False</td>\n",
       "      <td>False</td>\n",
       "      <td>False</td>\n",
       "      <td>False</td>\n",
       "    </tr>\n",
       "    <tr>\n",
       "      <th>99996</th>\n",
       "      <td>False</td>\n",
       "      <td>False</td>\n",
       "      <td>False</td>\n",
       "      <td>False</td>\n",
       "    </tr>\n",
       "    <tr>\n",
       "      <th>99997</th>\n",
       "      <td>False</td>\n",
       "      <td>False</td>\n",
       "      <td>False</td>\n",
       "      <td>False</td>\n",
       "    </tr>\n",
       "    <tr>\n",
       "      <th>99998</th>\n",
       "      <td>False</td>\n",
       "      <td>False</td>\n",
       "      <td>False</td>\n",
       "      <td>False</td>\n",
       "    </tr>\n",
       "    <tr>\n",
       "      <th>99999</th>\n",
       "      <td>False</td>\n",
       "      <td>False</td>\n",
       "      <td>False</td>\n",
       "      <td>False</td>\n",
       "    </tr>\n",
       "  </tbody>\n",
       "</table>\n",
       "<p>100000 rows × 4 columns</p>\n",
       "</div>"
      ],
      "text/plain": [
       "       user id  movie id  rating  timestamp\n",
       "0        False     False   False      False\n",
       "1        False     False   False      False\n",
       "2        False     False   False      False\n",
       "3        False     False   False      False\n",
       "4        False     False   False      False\n",
       "...        ...       ...     ...        ...\n",
       "99995    False     False   False      False\n",
       "99996    False     False   False      False\n",
       "99997    False     False   False      False\n",
       "99998    False     False   False      False\n",
       "99999    False     False   False      False\n",
       "\n",
       "[100000 rows x 4 columns]"
      ]
     },
     "execution_count": 112,
     "metadata": {},
     "output_type": "execute_result"
    }
   ],
   "source": [
    "#describe and info, shape is not null for Data dataframe\n",
    "dfd.info()\n",
    "dfd.describe()\n",
    "dfd.shape\n",
    "dfd.isna()"
   ]
  },
  {
   "cell_type": "code",
   "execution_count": 113,
   "metadata": {},
   "outputs": [
    {
     "name": "stdout",
     "output_type": "stream",
     "text": [
      "<class 'pandas.core.frame.DataFrame'>\n",
      "RangeIndex: 1681 entries, 0 to 1680\n",
      "Data columns (total 22 columns):\n",
      " #   Column        Non-Null Count  Dtype \n",
      "---  ------        --------------  ----- \n",
      " 0   movie id      1681 non-null   int64 \n",
      " 1   movie title   1681 non-null   object\n",
      " 2   release date  1681 non-null   object\n",
      " 3   unknown       1681 non-null   int64 \n",
      " 4   Action        1681 non-null   int64 \n",
      " 5   Adventure     1681 non-null   int64 \n",
      " 6   Animation     1681 non-null   int64 \n",
      " 7   Childrens     1681 non-null   int64 \n",
      " 8   Comedy        1681 non-null   int64 \n",
      " 9   Crime         1681 non-null   int64 \n",
      " 10  Documentary   1681 non-null   int64 \n",
      " 11  Drama         1681 non-null   int64 \n",
      " 12  Fantasy       1681 non-null   int64 \n",
      " 13  Film-Noir     1681 non-null   int64 \n",
      " 14  Horror        1681 non-null   int64 \n",
      " 15  Musical       1681 non-null   int64 \n",
      " 16  Mystery       1681 non-null   int64 \n",
      " 17  Romance       1681 non-null   int64 \n",
      " 18  Sci-Fi        1681 non-null   int64 \n",
      " 19  Thriller      1681 non-null   int64 \n",
      " 20  War           1681 non-null   int64 \n",
      " 21  Western       1681 non-null   int64 \n",
      "dtypes: int64(20), object(2)\n",
      "memory usage: 289.0+ KB\n"
     ]
    },
    {
     "data": {
      "text/html": [
       "<div>\n",
       "<style scoped>\n",
       "    .dataframe tbody tr th:only-of-type {\n",
       "        vertical-align: middle;\n",
       "    }\n",
       "\n",
       "    .dataframe tbody tr th {\n",
       "        vertical-align: top;\n",
       "    }\n",
       "\n",
       "    .dataframe thead th {\n",
       "        text-align: right;\n",
       "    }\n",
       "</style>\n",
       "<table border=\"1\" class=\"dataframe\">\n",
       "  <thead>\n",
       "    <tr style=\"text-align: right;\">\n",
       "      <th></th>\n",
       "      <th>movie id</th>\n",
       "      <th>movie title</th>\n",
       "      <th>release date</th>\n",
       "      <th>unknown</th>\n",
       "      <th>Action</th>\n",
       "      <th>Adventure</th>\n",
       "      <th>Animation</th>\n",
       "      <th>Childrens</th>\n",
       "      <th>Comedy</th>\n",
       "      <th>Crime</th>\n",
       "      <th>...</th>\n",
       "      <th>Fantasy</th>\n",
       "      <th>Film-Noir</th>\n",
       "      <th>Horror</th>\n",
       "      <th>Musical</th>\n",
       "      <th>Mystery</th>\n",
       "      <th>Romance</th>\n",
       "      <th>Sci-Fi</th>\n",
       "      <th>Thriller</th>\n",
       "      <th>War</th>\n",
       "      <th>Western</th>\n",
       "    </tr>\n",
       "  </thead>\n",
       "  <tbody>\n",
       "    <tr>\n",
       "      <th>0</th>\n",
       "      <td>False</td>\n",
       "      <td>False</td>\n",
       "      <td>False</td>\n",
       "      <td>False</td>\n",
       "      <td>False</td>\n",
       "      <td>False</td>\n",
       "      <td>False</td>\n",
       "      <td>False</td>\n",
       "      <td>False</td>\n",
       "      <td>False</td>\n",
       "      <td>...</td>\n",
       "      <td>False</td>\n",
       "      <td>False</td>\n",
       "      <td>False</td>\n",
       "      <td>False</td>\n",
       "      <td>False</td>\n",
       "      <td>False</td>\n",
       "      <td>False</td>\n",
       "      <td>False</td>\n",
       "      <td>False</td>\n",
       "      <td>False</td>\n",
       "    </tr>\n",
       "    <tr>\n",
       "      <th>1</th>\n",
       "      <td>False</td>\n",
       "      <td>False</td>\n",
       "      <td>False</td>\n",
       "      <td>False</td>\n",
       "      <td>False</td>\n",
       "      <td>False</td>\n",
       "      <td>False</td>\n",
       "      <td>False</td>\n",
       "      <td>False</td>\n",
       "      <td>False</td>\n",
       "      <td>...</td>\n",
       "      <td>False</td>\n",
       "      <td>False</td>\n",
       "      <td>False</td>\n",
       "      <td>False</td>\n",
       "      <td>False</td>\n",
       "      <td>False</td>\n",
       "      <td>False</td>\n",
       "      <td>False</td>\n",
       "      <td>False</td>\n",
       "      <td>False</td>\n",
       "    </tr>\n",
       "    <tr>\n",
       "      <th>2</th>\n",
       "      <td>False</td>\n",
       "      <td>False</td>\n",
       "      <td>False</td>\n",
       "      <td>False</td>\n",
       "      <td>False</td>\n",
       "      <td>False</td>\n",
       "      <td>False</td>\n",
       "      <td>False</td>\n",
       "      <td>False</td>\n",
       "      <td>False</td>\n",
       "      <td>...</td>\n",
       "      <td>False</td>\n",
       "      <td>False</td>\n",
       "      <td>False</td>\n",
       "      <td>False</td>\n",
       "      <td>False</td>\n",
       "      <td>False</td>\n",
       "      <td>False</td>\n",
       "      <td>False</td>\n",
       "      <td>False</td>\n",
       "      <td>False</td>\n",
       "    </tr>\n",
       "    <tr>\n",
       "      <th>3</th>\n",
       "      <td>False</td>\n",
       "      <td>False</td>\n",
       "      <td>False</td>\n",
       "      <td>False</td>\n",
       "      <td>False</td>\n",
       "      <td>False</td>\n",
       "      <td>False</td>\n",
       "      <td>False</td>\n",
       "      <td>False</td>\n",
       "      <td>False</td>\n",
       "      <td>...</td>\n",
       "      <td>False</td>\n",
       "      <td>False</td>\n",
       "      <td>False</td>\n",
       "      <td>False</td>\n",
       "      <td>False</td>\n",
       "      <td>False</td>\n",
       "      <td>False</td>\n",
       "      <td>False</td>\n",
       "      <td>False</td>\n",
       "      <td>False</td>\n",
       "    </tr>\n",
       "    <tr>\n",
       "      <th>4</th>\n",
       "      <td>False</td>\n",
       "      <td>False</td>\n",
       "      <td>False</td>\n",
       "      <td>False</td>\n",
       "      <td>False</td>\n",
       "      <td>False</td>\n",
       "      <td>False</td>\n",
       "      <td>False</td>\n",
       "      <td>False</td>\n",
       "      <td>False</td>\n",
       "      <td>...</td>\n",
       "      <td>False</td>\n",
       "      <td>False</td>\n",
       "      <td>False</td>\n",
       "      <td>False</td>\n",
       "      <td>False</td>\n",
       "      <td>False</td>\n",
       "      <td>False</td>\n",
       "      <td>False</td>\n",
       "      <td>False</td>\n",
       "      <td>False</td>\n",
       "    </tr>\n",
       "    <tr>\n",
       "      <th>...</th>\n",
       "      <td>...</td>\n",
       "      <td>...</td>\n",
       "      <td>...</td>\n",
       "      <td>...</td>\n",
       "      <td>...</td>\n",
       "      <td>...</td>\n",
       "      <td>...</td>\n",
       "      <td>...</td>\n",
       "      <td>...</td>\n",
       "      <td>...</td>\n",
       "      <td>...</td>\n",
       "      <td>...</td>\n",
       "      <td>...</td>\n",
       "      <td>...</td>\n",
       "      <td>...</td>\n",
       "      <td>...</td>\n",
       "      <td>...</td>\n",
       "      <td>...</td>\n",
       "      <td>...</td>\n",
       "      <td>...</td>\n",
       "      <td>...</td>\n",
       "    </tr>\n",
       "    <tr>\n",
       "      <th>1676</th>\n",
       "      <td>False</td>\n",
       "      <td>False</td>\n",
       "      <td>False</td>\n",
       "      <td>False</td>\n",
       "      <td>False</td>\n",
       "      <td>False</td>\n",
       "      <td>False</td>\n",
       "      <td>False</td>\n",
       "      <td>False</td>\n",
       "      <td>False</td>\n",
       "      <td>...</td>\n",
       "      <td>False</td>\n",
       "      <td>False</td>\n",
       "      <td>False</td>\n",
       "      <td>False</td>\n",
       "      <td>False</td>\n",
       "      <td>False</td>\n",
       "      <td>False</td>\n",
       "      <td>False</td>\n",
       "      <td>False</td>\n",
       "      <td>False</td>\n",
       "    </tr>\n",
       "    <tr>\n",
       "      <th>1677</th>\n",
       "      <td>False</td>\n",
       "      <td>False</td>\n",
       "      <td>False</td>\n",
       "      <td>False</td>\n",
       "      <td>False</td>\n",
       "      <td>False</td>\n",
       "      <td>False</td>\n",
       "      <td>False</td>\n",
       "      <td>False</td>\n",
       "      <td>False</td>\n",
       "      <td>...</td>\n",
       "      <td>False</td>\n",
       "      <td>False</td>\n",
       "      <td>False</td>\n",
       "      <td>False</td>\n",
       "      <td>False</td>\n",
       "      <td>False</td>\n",
       "      <td>False</td>\n",
       "      <td>False</td>\n",
       "      <td>False</td>\n",
       "      <td>False</td>\n",
       "    </tr>\n",
       "    <tr>\n",
       "      <th>1678</th>\n",
       "      <td>False</td>\n",
       "      <td>False</td>\n",
       "      <td>False</td>\n",
       "      <td>False</td>\n",
       "      <td>False</td>\n",
       "      <td>False</td>\n",
       "      <td>False</td>\n",
       "      <td>False</td>\n",
       "      <td>False</td>\n",
       "      <td>False</td>\n",
       "      <td>...</td>\n",
       "      <td>False</td>\n",
       "      <td>False</td>\n",
       "      <td>False</td>\n",
       "      <td>False</td>\n",
       "      <td>False</td>\n",
       "      <td>False</td>\n",
       "      <td>False</td>\n",
       "      <td>False</td>\n",
       "      <td>False</td>\n",
       "      <td>False</td>\n",
       "    </tr>\n",
       "    <tr>\n",
       "      <th>1679</th>\n",
       "      <td>False</td>\n",
       "      <td>False</td>\n",
       "      <td>False</td>\n",
       "      <td>False</td>\n",
       "      <td>False</td>\n",
       "      <td>False</td>\n",
       "      <td>False</td>\n",
       "      <td>False</td>\n",
       "      <td>False</td>\n",
       "      <td>False</td>\n",
       "      <td>...</td>\n",
       "      <td>False</td>\n",
       "      <td>False</td>\n",
       "      <td>False</td>\n",
       "      <td>False</td>\n",
       "      <td>False</td>\n",
       "      <td>False</td>\n",
       "      <td>False</td>\n",
       "      <td>False</td>\n",
       "      <td>False</td>\n",
       "      <td>False</td>\n",
       "    </tr>\n",
       "    <tr>\n",
       "      <th>1680</th>\n",
       "      <td>False</td>\n",
       "      <td>False</td>\n",
       "      <td>False</td>\n",
       "      <td>False</td>\n",
       "      <td>False</td>\n",
       "      <td>False</td>\n",
       "      <td>False</td>\n",
       "      <td>False</td>\n",
       "      <td>False</td>\n",
       "      <td>False</td>\n",
       "      <td>...</td>\n",
       "      <td>False</td>\n",
       "      <td>False</td>\n",
       "      <td>False</td>\n",
       "      <td>False</td>\n",
       "      <td>False</td>\n",
       "      <td>False</td>\n",
       "      <td>False</td>\n",
       "      <td>False</td>\n",
       "      <td>False</td>\n",
       "      <td>False</td>\n",
       "    </tr>\n",
       "  </tbody>\n",
       "</table>\n",
       "<p>1681 rows × 22 columns</p>\n",
       "</div>"
      ],
      "text/plain": [
       "      movie id  movie title  release date  unknown  Action  Adventure  \\\n",
       "0        False        False         False    False   False      False   \n",
       "1        False        False         False    False   False      False   \n",
       "2        False        False         False    False   False      False   \n",
       "3        False        False         False    False   False      False   \n",
       "4        False        False         False    False   False      False   \n",
       "...        ...          ...           ...      ...     ...        ...   \n",
       "1676     False        False         False    False   False      False   \n",
       "1677     False        False         False    False   False      False   \n",
       "1678     False        False         False    False   False      False   \n",
       "1679     False        False         False    False   False      False   \n",
       "1680     False        False         False    False   False      False   \n",
       "\n",
       "      Animation  Childrens  Comedy  Crime  ...  Fantasy  Film-Noir  Horror  \\\n",
       "0         False      False   False  False  ...    False      False   False   \n",
       "1         False      False   False  False  ...    False      False   False   \n",
       "2         False      False   False  False  ...    False      False   False   \n",
       "3         False      False   False  False  ...    False      False   False   \n",
       "4         False      False   False  False  ...    False      False   False   \n",
       "...         ...        ...     ...    ...  ...      ...        ...     ...   \n",
       "1676      False      False   False  False  ...    False      False   False   \n",
       "1677      False      False   False  False  ...    False      False   False   \n",
       "1678      False      False   False  False  ...    False      False   False   \n",
       "1679      False      False   False  False  ...    False      False   False   \n",
       "1680      False      False   False  False  ...    False      False   False   \n",
       "\n",
       "      Musical  Mystery  Romance  Sci-Fi  Thriller    War  Western  \n",
       "0       False    False    False   False     False  False    False  \n",
       "1       False    False    False   False     False  False    False  \n",
       "2       False    False    False   False     False  False    False  \n",
       "3       False    False    False   False     False  False    False  \n",
       "4       False    False    False   False     False  False    False  \n",
       "...       ...      ...      ...     ...       ...    ...      ...  \n",
       "1676    False    False    False   False     False  False    False  \n",
       "1677    False    False    False   False     False  False    False  \n",
       "1678    False    False    False   False     False  False    False  \n",
       "1679    False    False    False   False     False  False    False  \n",
       "1680    False    False    False   False     False  False    False  \n",
       "\n",
       "[1681 rows x 22 columns]"
      ]
     },
     "execution_count": 113,
     "metadata": {},
     "output_type": "execute_result"
    }
   ],
   "source": [
    "#describe and info, shape is not null for Item dataframe\n",
    "dfi.info()\n",
    "dfi.describe()\n",
    "dfi.shape\n",
    "dfi.isna()"
   ]
  },
  {
   "cell_type": "markdown",
   "metadata": {},
   "source": [
    "#### 3. Apply info, shape, describe, and find the number of missing values in the data - 5 marks\n",
    " - Note that you will need to do it for all the three datasets seperately"
   ]
  },
  {
   "cell_type": "code",
   "execution_count": 9,
   "metadata": {},
   "outputs": [
    {
     "name": "stdout",
     "output_type": "stream",
     "text": [
      "         movie id  Action  Adventure  Animation  Childrens  Comedy  Crime  \\\n",
      "unknown                                                                     \n",
      "0         1413763     251        135         42        122     505    109   \n",
      "1            1373       0          0          0          0       0      0   \n",
      "\n",
      "         Documentary  Drama  Fantasy  Film-Noir  Horror  Musical  Mystery  \\\n",
      "unknown                                                                     \n",
      "0                 50    725       22         24      92       56       61   \n",
      "1                  0      0        0          0       0        0        0   \n",
      "\n",
      "         Romance  Sci-Fi  Thriller  War  Western  \n",
      "unknown                                           \n",
      "0            247     101       251   71       27  \n",
      "1              0       0         0    0        0  \n"
     ]
    }
   ],
   "source": [
    "#count the genre \n",
    "dfiGr= dfi.groupby('unknown').sum()\n",
    "print(dfiGr)"
   ]
  },
  {
   "cell_type": "markdown",
   "metadata": {},
   "source": [
    "#### 4. Find the number of movies per genre using the item data - 2.5 marks"
   ]
  },
  {
   "cell_type": "code",
   "execution_count": 104,
   "metadata": {
    "scrolled": true
   },
   "outputs": [
    {
     "name": "stdout",
     "output_type": "stream",
     "text": [
      "849\n"
     ]
    }
   ],
   "source": [
    "# Count the movie's that more than one genere\n",
    "dfires1 = dfi\n",
    "dfires2 = dfires1.drop(columns=['movie id', 'movie title', 'release date', 'unknown'])\n",
    "dfisum = dfires2.sum(axis=1)\n",
    "print(sum(dfisum> 1))"
   ]
  },
  {
   "cell_type": "markdown",
   "metadata": {},
   "source": [
    "#### 5. Find the movies that have more than one genre - 5 marks"
   ]
  },
  {
   "cell_type": "code",
   "execution_count": 103,
   "metadata": {},
   "outputs": [
    {
     "name": "stdout",
     "output_type": "stream",
     "text": [
      "      movie id    movie title release date  unknown  Action  Adventure  \\\n",
      "1371      1373  Good Morning    4-Feb-1971        1       0          0   \n",
      "\n",
      "      Animation  Childrens  Comedy  Crime  ...  Fantasy  Film-Noir  Horror  \\\n",
      "1371          0          0       0      0  ...        0          0       0   \n",
      "\n",
      "      Musical  Mystery  Romance  Sci-Fi  Thriller  War  Western  \n",
      "1371        0        0        0       0         0    0        0  \n",
      "\n",
      "[1 rows x 22 columns]\n"
     ]
    }
   ],
   "source": [
    "#find unknown genre movie\n",
    "dfidr=dfi\n",
    "dfidr = dfidr[dfidr.unknown == 1]\n",
    "print(dfidr)\n",
    "#drop the movie with unknown genre\n",
    "dfidr=dfidr.drop\n",
    "\n"
   ]
  },
  {
   "cell_type": "markdown",
   "metadata": {},
   "source": [
    "#### 6. Drop the movie where the genre is unknown - 2.5 marks"
   ]
  },
  {
   "cell_type": "code",
   "execution_count": 89,
   "metadata": {},
   "outputs": [
    {
     "name": "stdout",
     "output_type": "stream",
     "text": [
      "       user id  age gender  occupation zip code  movie id  rating  timestamp\n",
      "0            1   24      M  technician    85711        61       4  878542420\n",
      "1            1   24      M  technician    85711       189       3  888732928\n",
      "2            1   24      M  technician    85711        33       4  878542699\n",
      "3            1   24      M  technician    85711       160       4  875072547\n",
      "4            1   24      M  technician    85711        20       4  887431883\n",
      "...        ...  ...    ...         ...      ...       ...     ...        ...\n",
      "99995      943   22      M     student    77841       415       1  888640027\n",
      "99996      943   22      M     student    77841       219       4  888639575\n",
      "99997      943   22      M     student    77841       796       3  888640311\n",
      "99998      943   22      M     student    77841       739       4  888639929\n",
      "99999      943   22      M     student    77841       391       2  888640291\n",
      "\n",
      "[100000 rows x 8 columns]\n",
      "       user id  age gender  occupation zip code  movie id  rating  timestamp  \\\n",
      "0            1   24      M  technician    85711        61       4  878542420   \n",
      "1           13   47      M    educator    29206        61       4  882140552   \n",
      "2           18   35      F       other    37212        61       4  880130803   \n",
      "3           58   27      M  programmer    52246        61       5  884305271   \n",
      "4           59   49      M    educator    08403        61       4  888204597   \n",
      "...        ...  ...    ...         ...      ...       ...     ...        ...   \n",
      "99986      863   17      M     student    60089      1679       3  889289491   \n",
      "99987      863   17      M     student    60089      1678       1  889289570   \n",
      "99988      863   17      M     student    60089      1680       2  889289570   \n",
      "99989      896   28      M      writer    91505      1681       3  887160722   \n",
      "99990      916   27      M    engineer    N2L5N      1682       3  880845755   \n",
      "\n",
      "                               movie title release date  ...  Fantasy  \\\n",
      "0                     Three Colors: White   01-Jan-1994  ...        0   \n",
      "1                     Three Colors: White   01-Jan-1994  ...        0   \n",
      "2                     Three Colors: White   01-Jan-1994  ...        0   \n",
      "3                     Three Colors: White   01-Jan-1994  ...        0   \n",
      "4                     Three Colors: White   01-Jan-1994  ...        0   \n",
      "...                                    ...          ...  ...      ...   \n",
      "99986                           B. Monkey   06-Feb-1998  ...        0   \n",
      "99987                          Mat' i syn   06-Feb-1998  ...        0   \n",
      "99988                       Sliding Doors   01-Jan-1998  ...        0   \n",
      "99989                        You So Crazy   01-Jan-1994  ...        0   \n",
      "99990  Scream of Stone (Schrei aus Stein)   08-Mar-1996  ...        0   \n",
      "\n",
      "       Film-Noir  Horror  Musical  Mystery  Romance  Sci-Fi  Thriller  War  \\\n",
      "0              0       0        0        0        0       0         0    0   \n",
      "1              0       0        0        0        0       0         0    0   \n",
      "2              0       0        0        0        0       0         0    0   \n",
      "3              0       0        0        0        0       0         0    0   \n",
      "4              0       0        0        0        0       0         0    0   \n",
      "...          ...     ...      ...      ...      ...     ...       ...  ...   \n",
      "99986          0       0        0        0        1       0         1    0   \n",
      "99987          0       0        0        0        0       0         0    0   \n",
      "99988          0       0        0        0        1       0         0    0   \n",
      "99989          0       0        0        0        0       0         0    0   \n",
      "99990          0       0        0        0        0       0         0    0   \n",
      "\n",
      "       Western  \n",
      "0            0  \n",
      "1            0  \n",
      "2            0  \n",
      "3            0  \n",
      "4            0  \n",
      "...        ...  \n",
      "99986        0  \n",
      "99987        0  \n",
      "99988        0  \n",
      "99989        0  \n",
      "99990        0  \n",
      "\n",
      "[99991 rows x 29 columns]\n"
     ]
    }
   ],
   "source": [
    "#merge the user and data dataframes\n",
    "UniRes=pd.merge(dfu,dfd, on='user id')\n",
    "print(UniRes)\n",
    "#merge user,data and item to one dataframe\n",
    "UniRes1=pd.merge(UniRes,dfi, on ='movie id')\n",
    "#print dataframe\n",
    "print(UniRes1)"
   ]
  },
  {
   "cell_type": "code",
   "execution_count": 88,
   "metadata": {
    "scrolled": true
   },
   "outputs": [
    {
     "data": {
      "text/plain": [
       "<matplotlib.axes._subplots.AxesSubplot at 0x138e0a93b50>"
      ]
     },
     "execution_count": 88,
     "metadata": {},
     "output_type": "execute_result"
    },
    {
     "data": {
      "image/png": "[encoded data removed]",
      "text/plain": [
       "<Figure size 432x288 with 1 Axes>"
      ]
     },
     "metadata": {
      "needs_background": "light"
     },
     "output_type": "display_data"
    }
   ],
   "source": [
    " #countplot distribution for rating\n",
    "sns.countplot(UniRes1['rating'])\n"
   ]
  },
  {
   "cell_type": "code",
   "execution_count": 87,
   "metadata": {},
   "outputs": [
    {
     "data": {
      "text/plain": [
       "<matplotlib.axes._subplots.AxesSubplot at 0x138e0ac8e20>"
      ]
     },
     "execution_count": 87,
     "metadata": {},
     "output_type": "execute_result"
    },
    {
     "data": {
      "image/png": "[encoded data removed]",
      "text/plain": [
       "<Figure size 432x288 with 1 Axes>"
      ]
     },
     "metadata": {
      "needs_background": "light"
     },
     "output_type": "display_data"
    }
   ],
   "source": [
    "#countplot distribution for age\n",
    "sns.countplot(UniRes1['age'])"
   ]
  },
  {
   "cell_type": "markdown",
   "metadata": {},
   "source": [
    "sns.distplot(UniRes1['age'], kde='True')\n",
    "\n"
   ]
  },
  {
   "cell_type": "code",
   "execution_count": 86,
   "metadata": {},
   "outputs": [
    {
     "name": "stdout",
     "output_type": "stream",
     "text": [
      "      Day Month  Year\n",
      "0      01   Jan  1994\n",
      "1      01   Jan  1994\n",
      "2      01   Jan  1994\n",
      "3      01   Jan  1994\n",
      "4      01   Jan  1994\n",
      "...    ..   ...   ...\n",
      "99986  06   Feb  1998\n",
      "99987  06   Feb  1998\n",
      "99988  01   Jan  1998\n",
      "99989  01   Jan  1994\n",
      "99990  08   Mar  1996\n",
      "\n",
      "[99991 rows x 3 columns]\n"
     ]
    },
    {
     "data": {
      "text/plain": [
       "<matplotlib.axes._subplots.AxesSubplot at 0x138e477cee0>"
      ]
     },
     "execution_count": 86,
     "metadata": {},
     "output_type": "execute_result"
    },
    {
     "data": {
      "image/png": "[encoded data removed]",
      "text/plain": [
       "<Figure size 432x288 with 1 Axes>"
      ]
     },
     "metadata": {
      "needs_background": "light"
     },
     "output_type": "display_data"
    }
   ],
   "source": [
    "#get the release date column to dataframe\n",
    "UniRes2= UniRes1[UniRes1.columns[9]]\n",
    "                 \n",
    "#slit the release into day,month, year\n",
    "UniRes3 = pd.DataFrame(UniRes2.str.split('-',2).tolist(),\n",
    "                                 columns = ['Day','Month','Year'])\n",
    "\n",
    "#print\n",
    "print(UniRes3)\n",
    "#join the split field to the main data frame\n",
    "UniRes4=UniRes1.join(UniRes3)\n",
    "\n",
    "#countplot distribution for year\n",
    "sns.countplot(UniRes4['Year'])"
   ]
  },
  {
   "cell_type": "code",
   "execution_count": 85,
   "metadata": {},
   "outputs": [
    {
     "data": {
      "text/plain": [
       "<matplotlib.axes._subplots.AxesSubplot at 0x138e6466460>"
      ]
     },
     "execution_count": 85,
     "metadata": {},
     "output_type": "execute_result"
    },
    {
     "data": {
      "image/png": "[encoded data removed]",
      "text/plain": [
       "<Figure size 432x288 with 1 Axes>"
      ]
     },
     "metadata": {
      "needs_background": "light"
     },
     "output_type": "display_data"
    }
   ],
   "source": [
    "#countplot distribution for occupation\n",
    "sns.countplot(UniRes4['occupation'])"
   ]
  },
  {
   "cell_type": "code",
   "execution_count": 84,
   "metadata": {},
   "outputs": [
    {
     "data": {
      "text/plain": [
       "<matplotlib.axes._subplots.AxesSubplot at 0x138e01e9cd0>"
      ]
     },
     "execution_count": 84,
     "metadata": {},
     "output_type": "execute_result"
    },
    {
     "data": {
      "image/png": "[encoded data removed]",
      "text/plain": [
       "<Figure size 432x288 with 1 Axes>"
      ]
     },
     "metadata": {
      "needs_background": "light"
     },
     "output_type": "display_data"
    }
   ],
   "source": [
    "#countplot distribution for gender\n",
    "sns.countplot(UniRes4['gender'])"
   ]
  },
  {
   "cell_type": "markdown",
   "metadata": {},
   "source": [
    "### 7. Univariate plots of columns: 'rating', 'Age', 'release year', 'Gender' and 'Occupation' - 10 marks"
   ]
  },
  {
   "cell_type": "code",
   "execution_count": 121,
   "metadata": {},
   "outputs": [],
   "source": [
    "# HINT: Use distplot for age and countplot for gender,ratings,occupation. Use lineplot or countplot for release year.\n",
    "# HINT: Please refer to the below snippet to understand how to get to release year from release date. You can use str.split()\n",
    "# as depicted below.as depicted below or you could convert it to pandas datetime format and extract year (.dt.year)"
   ]
  },
  {
   "cell_type": "code",
   "execution_count": 112,
   "metadata": {},
   "outputs": [
    {
     "name": "stdout",
     "output_type": "stream",
     "text": [
      "brown\n",
      "brown\n",
      "brown\n"
     ]
    }
   ],
   "source": [
    "a = 'My*cat*is*brown'\n",
    "print(a.split('*')[3])\n",
    "\n",
    "#similarly, the release year needs to be taken out from release date\n",
    "\n",
    "#also you can simply slice existing string to get the desired data, if we want to take out the colour of the cat\n",
    "\n",
    "print(a[10:])\n",
    "print(a[-5:])"
   ]
  },
  {
   "cell_type": "code",
   "execution_count": 83,
   "metadata": {},
   "outputs": [
    {
     "name": "stdout",
     "output_type": "stream",
     "text": [
      "       unknown  Action  Adventure  Animation  Childrens  Comedy  Crime  \\\n",
      "0            0       0          0          0          0       0      0   \n",
      "1            0       0          0          0          0       0      0   \n",
      "2            0       0          0          0          0       0      0   \n",
      "3            0       0          0          0          0       0      0   \n",
      "4            0       0          0          0          0       0      0   \n",
      "...        ...     ...        ...        ...        ...     ...    ...   \n",
      "99986        0       0          0          0          0       0      0   \n",
      "99987        0       0          0          0          0       0      0   \n",
      "99988        0       0          0          0          0       0      0   \n",
      "99989        0       0          0          0          0       1      0   \n",
      "99990        0       0          0          0          0       0      0   \n",
      "\n",
      "       Documentary  Drama  Fantasy  Film-Noir  Horror  Musical  Mystery  \\\n",
      "0                0      1        0          0       0        0        0   \n",
      "1                0      1        0          0       0        0        0   \n",
      "2                0      1        0          0       0        0        0   \n",
      "3                0      1        0          0       0        0        0   \n",
      "4                0      1        0          0       0        0        0   \n",
      "...            ...    ...      ...        ...     ...      ...      ...   \n",
      "99986            0      0        0          0       0        0        0   \n",
      "99987            0      1        0          0       0        0        0   \n",
      "99988            0      1        0          0       0        0        0   \n",
      "99989            0      0        0          0       0        0        0   \n",
      "99990            0      1        0          0       0        0        0   \n",
      "\n",
      "       Romance  Sci-Fi  Thriller  War  Western  Year  \n",
      "0            0       0         0    0        0  1994  \n",
      "1            0       0         0    0        0  1994  \n",
      "2            0       0         0    0        0  1994  \n",
      "3            0       0         0    0        0  1994  \n",
      "4            0       0         0    0        0  1994  \n",
      "...        ...     ...       ...  ...      ...   ...  \n",
      "99986        1       0         1    0        0  1998  \n",
      "99987        0       0         0    0        0  1998  \n",
      "99988        1       0         0    0        0  1998  \n",
      "99989        0       0         0    0        0  1994  \n",
      "99990        0       0         0    0        0  1996  \n",
      "\n",
      "[99991 rows x 20 columns]\n",
      "      unknown  Action  Adventure  Animation  Childrens  Comedy  Crime  \\\n",
      "Year                                                                    \n",
      "1922        0       0          0          0          0       0      0   \n",
      "1926        0       0          0          0          0       0      0   \n",
      "1930        0       0          0          0          0       0      0   \n",
      "1931        0       0          0          0          0       0     44   \n",
      "1932        0       0          0          0          0       0      0   \n",
      "...       ...     ...        ...        ...        ...     ...    ...   \n",
      "1994        0    1741        878        244        605    3524    784   \n",
      "1995        0    2328       1018        550       1118    3641   1143   \n",
      "1996        0    4573       2793        748       1038    5798   1035   \n",
      "1997        0    5674       1963        164        775    4480   2340   \n",
      "1998        0     220         62          0          3     281     95   \n",
      "\n",
      "      Documentary  Drama  Fantasy  Film-Noir  Horror  Musical  Mystery  \\\n",
      "Year                                                                     \n",
      "1922            0      0        0          0      54        0        0   \n",
      "1926            0      2        0          0       0        0        0   \n",
      "1930            0     18        0          0       0        0        0   \n",
      "1931            0      0        0         44       0        0        0   \n",
      "1932            0      0        0          0       0        0        0   \n",
      "...           ...    ...      ...        ...     ...      ...      ...   \n",
      "1994          222   3787      211          0     375      237      109   \n",
      "1995           23   4677      157         57     294      113      140   \n",
      "1996          232   8513      458         82     962      852      613   \n",
      "1997           99   6700       96        370     573      206     2198   \n",
      "1998           10    531        3         30      54       28       66   \n",
      "\n",
      "      Romance  Sci-Fi  Thriller   War  Western  \n",
      "Year                                            \n",
      "1922        0       0         0     0        0  \n",
      "1926        0       0         0     0        0  \n",
      "1930        0       0         0     0        0  \n",
      "1931        0       0        44     0        0  \n",
      "1932       12       0         0    12        0  \n",
      "...       ...     ...       ...   ...      ...  \n",
      "1994     2367     358      1521   499      319  \n",
      "1995     2455    1108      2456   282       60  \n",
      "1996     3477    1678      4496  1832       87  \n",
      "1997     3359    2716      6024  1763        0  \n",
      "1998      142      92       481     0        0  \n",
      "\n",
      "[71 rows x 19 columns]\n"
     ]
    }
   ],
   "source": [
    "#Copy the dataframe\n",
    "UniRes5=UniRes4\n",
    "#drop the columns mentioned\n",
    "UniRes5=UniRes5.drop(columns=['age','gender','occupation','zip code','user id','user id','movie id','rating','timestamp','movie title','release date','Day','Month'])\n",
    "print(UniRes5)\n",
    "#group by year and sum the genre count\n",
    "UniRes6=UniRes5.groupby(by=[\"Year\"]).sum()\n",
    "print(UniRes6)"
   ]
  },
  {
   "cell_type": "code",
   "execution_count": 82,
   "metadata": {},
   "outputs": [
    {
     "data": {
      "image/png": "[encoded data removed]",
      "text/plain": [
       "<Figure size 432x288 with 2 Axes>"
      ]
     },
     "metadata": {
      "needs_background": "light"
     },
     "output_type": "display_data"
    }
   ],
   "source": [
    "#Heat map distribution genre by year plot with custom color code set\n",
    "UniRes7 = sns.heatmap(UniRes6, cmap=\"YlGnBu\")\n"
   ]
  },
  {
   "cell_type": "markdown",
   "metadata": {},
   "source": [
    "### 8. Visualize how popularity of genres has changed over the years - 10 marks\n",
    "\n",
    "Note that you need to use the number of releases in a year as a parameter of popularity of a genre"
   ]
  },
  {
   "cell_type": "markdown",
   "metadata": {},
   "source": [
    "Hint \n",
    "\n",
    "1: you need to reach to a data frame where the release year is the index and the genre is the column names (one cell shows the number of release in a year in one genre) or vice versa.\n",
    "Once that is achieved, you can either use multiple bivariate plots or can use the heatmap to visualise all the changes over the years in one go. \n",
    "\n",
    "Hint 2: Use groupby on the relevant column and use sum() on the same to find out the nuumber of releases in a year/genre.  "
   ]
  },
  {
   "cell_type": "code",
   "execution_count": 81,
   "metadata": {},
   "outputs": [
    {
     "name": "stdout",
     "output_type": "stream",
     "text": [
      "['Farmer & Chase ', 'Killer: A Journal of Murder ', 'Wedding Gift, The ', 'Dial M for Murder ', 'World of Apu, The (Apur Sansar) ', 'Wings of Courage ', 'Window to Paris ', 'Wings of Desire ', 'Damsel in Distress, A ', 'Cosi ', 'Fille seule, La (A Single Girl) ', 'Substance of Fire, The ', 'He Walked by Night ', 'Tokyo Fist ', 'Desert Winds ', 'M ', \"Margaret's Museum \", 'Cérémonie, La ', 'Nightwatch ', 'Wonderful, Horrible Life of Leni Riefenstahl, The ', 'Priest ', 'Nico Icon ', 'Celestial Clockwork ', 'Brothers in Trouble ', 'Butcher Boy, The ']\n"
     ]
    }
   ],
   "source": [
    "#Your answer here\n",
    "# new dataframe\n",
    "UniRes8 = UniRes4\n",
    "#group by and reset index\n",
    "UniRes8 = UniRes8.groupby(['movie id']).size().reset_index(name='counts')\n",
    "#count greater than 100\n",
    "UniRes8 = UniRes8[UniRes8['counts'] > 100]\n",
    "#to list the movie id's with than 100 ratings\n",
    "movie_ids = UniRes8['movie id'].tolist() \n",
    "\n",
    "UniRes8 = UniRes4\n",
    "#group by and average the ratings\n",
    "UniRes8 = UniRes8.groupby('movie id')['rating'].mean().reset_index(name='mean_ratings')\n",
    "#sort descending \n",
    "UniRes8 = UniRes8.sort_values(by='mean_ratings', ascending=False)\n",
    "#check ing te movie ids greater than 100 rating\n",
    "UniRes8 = UniRes8[UniRes8['mean_ratings'].isin(movie_ids)]\n",
    "#list top 25\n",
    "UniRes8 = UniRes8[:25]\n",
    "#merge the movie id's with move titles\n",
    "UniRes8 = pd.merge(UniRes8, dfi, on = 'movie id')\n",
    "movie_names = UniRes8['movie title'].tolist() \n",
    "#print movies\n",
    "print(movie_names)\n",
    "\n",
    "\n"
   ]
  },
  {
   "cell_type": "markdown",
   "metadata": {},
   "source": [
    "### 9. Find the top 25 movies according to average ratings such that each movie has number of ratings more than 100 - 10 marks\n",
    "\n",
    "Hint : \n",
    "\n",
    "1. First find the movies that have more than 100 ratings(use groupby and count). Extract the movie id in a list.\n",
    "2. Find the average rating of all the movies and sort them in the descending order. \n",
    "3. Use isin(list obtained from 1) to filter out the movies which have more than 100 ratings.\n",
    "4. You will have to use the .merge() function to get the movie titles.\n",
    "\n",
    "Note: This question will need you to research about groupby and apply your findings. You can find more on groupby on https://realpython.com/pandas-groupby/."
   ]
  },
  {
   "cell_type": "code",
   "execution_count": 108,
   "metadata": {},
   "outputs": [
    {
     "name": "stdout",
     "output_type": "stream",
     "text": [
      "           Drama    Sci-Fi   Romance    count\n",
      "gender                                       \n",
      "F       0.427694  0.102145  0.227601  25738.0\n",
      "M       0.389035  0.136035  0.183198  74253.0\n"
     ]
    }
   ],
   "source": [
    "\n",
    "#None of the statements are valid\n",
    "UniRes9 = UniRes4.groupby('gender').sum()\n",
    "UniRes9 = dist.filter(items=['gender','Drama', 'Sci-Fi', 'Romance'])\n",
    "UniRes9['count'] =  UniRes4.groupby('gender').size()\n",
    "UniRes9 = UniRes9.div(dist['count'], axis=0)\n",
    "print(UniRes9)\n",
    "\n"
   ]
  },
  {
   "cell_type": "markdown",
   "metadata": {},
   "source": [
    "### 10. See gender distribution across different genres check for the validity of the below statements - 10 marks\n",
    "\n",
    "* Men watch more drama than women\n",
    "* Women watch more Sci-Fi than men\n",
    "* Men watch more Romance than women\n",
    "\n",
    "**compare the percentages**"
   ]
  },
  {
   "cell_type": "markdown",
   "metadata": {},
   "source": [
    "1. There is no need to conduct statistical tests around this. Just **compare the percentages** and comment on the validity of the above statements.\n",
    "\n",
    "2. you might want ot use the .sum(), .div() function here.\n",
    "3. Use number of ratings to validate the numbers. For example, if out of 4000 ratings received by women, 3000 are for drama, we will assume that 75% of the women watch drama."
   ]
  },
  {
   "cell_type": "markdown",
   "metadata": {},
   "source": [
    "#### Conclusion:\n",
    "\n"
   ]
  },
  {
   "cell_type": "code",
   "execution_count": 1,
   "metadata": {},
   "outputs": [],
   "source": [
    "# Men watch more drama than women- false\n",
    "# Men watch more Romance than women - fase\n",
    "# Women watch more Sci-Fi than men - false\n",
    "# 42 percent female watch drama 38 percent males"
   ]
  }
 ],
 "metadata": {
  "kernelspec": {
   "display_name": "Python 3",
   "language": "python",
   "name": "python3"
  },
  "language_info": {
   "codemirror_mode": {
    "name": "ipython",
    "version": 3
   },
   "file_extension": ".py",
   "mimetype": "text/x-python",
   "name": "python",
   "nbconvert_exporter": "python",
   "pygments_lexer": "ipython3",
   "version": "3.8.3"
  }
 },
 "nbformat": 4,
 "nbformat_minor": 2
}
